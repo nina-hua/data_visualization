{
 "cells": [
  {
   "cell_type": "markdown",
   "metadata": {},
   "source": [
    "# Stacked Area Graph"
   ]
  },
  {
   "cell_type": "markdown",
   "metadata": {},
   "source": [
    "Stacked Area Graph of headcounts of female R&D personnel, researchers, and technologists in Thailand across the last several years.  "
   ]
  },
  {
   "cell_type": "code",
   "execution_count": 1,
   "metadata": {},
   "outputs": [],
   "source": [
    "import pandas as pd \n",
    "import numpy as np\n",
    "import plotly.plotly as py\n",
    "import plotly.graph_objs as go"
   ]
  },
  {
   "cell_type": "code",
   "execution_count": 2,
   "metadata": {},
   "outputs": [],
   "source": [
    "rnd = pd.read_csv('../data/total_rd.csv')\n",
    "research = pd.read_csv('../data/total_researchers.csv')\n",
    "tech = pd.read_csv('../data/total_technicians.csv')"
   ]
  },
  {
   "cell_type": "code",
   "execution_count": 38,
   "metadata": {},
   "outputs": [],
   "source": [
    "# rnd_thai = rnd[(rnd.Indicator == 'Total R&D personnel (HC) - % Female') & (rnd.Country == 'Thailand')]\n",
    "rnd_thai = rnd[(rnd.Indicator == 'Total R&D personnel (HC) - Female') & (rnd.Country == 'Thailand')]"
   ]
  },
  {
   "cell_type": "code",
   "execution_count": 39,
   "metadata": {},
   "outputs": [
    {
     "data": {
      "text/html": [
       "<div>\n",
       "<style scoped>\n",
       "    .dataframe tbody tr th:only-of-type {\n",
       "        vertical-align: middle;\n",
       "    }\n",
       "\n",
       "    .dataframe tbody tr th {\n",
       "        vertical-align: top;\n",
       "    }\n",
       "\n",
       "    .dataframe thead th {\n",
       "        text-align: right;\n",
       "    }\n",
       "</style>\n",
       "<table border=\"1\" class=\"dataframe\">\n",
       "  <thead>\n",
       "    <tr style=\"text-align: right;\">\n",
       "      <th></th>\n",
       "      <th>INDICATOR</th>\n",
       "      <th>Indicator</th>\n",
       "      <th>LOCATION</th>\n",
       "      <th>Country</th>\n",
       "      <th>TIME</th>\n",
       "      <th>Time</th>\n",
       "      <th>Value</th>\n",
       "      <th>Flag Codes</th>\n",
       "      <th>Flags</th>\n",
       "    </tr>\n",
       "  </thead>\n",
       "  <tbody>\n",
       "    <tr>\n",
       "      <th>1732</th>\n",
       "      <td>21104</td>\n",
       "      <td>Total R&amp;D personnel (HC) - Female</td>\n",
       "      <td>THA</td>\n",
       "      <td>Thailand</td>\n",
       "      <td>2011</td>\n",
       "      <td>2011</td>\n",
       "      <td>49298.0</td>\n",
       "      <td>NaN</td>\n",
       "      <td>NaN</td>\n",
       "    </tr>\n",
       "    <tr>\n",
       "      <th>1733</th>\n",
       "      <td>21104</td>\n",
       "      <td>Total R&amp;D personnel (HC) - Female</td>\n",
       "      <td>THA</td>\n",
       "      <td>Thailand</td>\n",
       "      <td>2015</td>\n",
       "      <td>2015</td>\n",
       "      <td>56884.0</td>\n",
       "      <td>NaN</td>\n",
       "      <td>NaN</td>\n",
       "    </tr>\n",
       "    <tr>\n",
       "      <th>1734</th>\n",
       "      <td>21104</td>\n",
       "      <td>Total R&amp;D personnel (HC) - Female</td>\n",
       "      <td>THA</td>\n",
       "      <td>Thailand</td>\n",
       "      <td>2016</td>\n",
       "      <td>2016</td>\n",
       "      <td>88640.0</td>\n",
       "      <td>NaN</td>\n",
       "      <td>NaN</td>\n",
       "    </tr>\n",
       "  </tbody>\n",
       "</table>\n",
       "</div>"
      ],
      "text/plain": [
       "     INDICATOR                          Indicator LOCATION   Country  TIME  \\\n",
       "1732     21104  Total R&D personnel (HC) - Female      THA  Thailand  2011   \n",
       "1733     21104  Total R&D personnel (HC) - Female      THA  Thailand  2015   \n",
       "1734     21104  Total R&D personnel (HC) - Female      THA  Thailand  2016   \n",
       "\n",
       "      Time    Value Flag Codes Flags  \n",
       "1732  2011  49298.0        NaN   NaN  \n",
       "1733  2015  56884.0        NaN   NaN  \n",
       "1734  2016  88640.0        NaN   NaN  "
      ]
     },
     "execution_count": 39,
     "metadata": {},
     "output_type": "execute_result"
    }
   ],
   "source": [
    "rnd_thai"
   ]
  },
  {
   "cell_type": "code",
   "execution_count": 40,
   "metadata": {},
   "outputs": [],
   "source": [
    "# research_thai = research[(research.Indicator == 'Researchers (HC) - % Female') & (research.Country == 'Thailand')]\n",
    "research_thai = research[(research.Indicator == 'Researchers (HC) - Female') & (research.Country == 'Thailand')]\n",
    "\n",
    "\n",
    "# exclude 2014 to match the other data sources \n",
    "\n",
    "research_thai = research_thai[research_thai['Time'] != 2014]"
   ]
  },
  {
   "cell_type": "code",
   "execution_count": 41,
   "metadata": {},
   "outputs": [
    {
     "data": {
      "text/html": [
       "<div>\n",
       "<style scoped>\n",
       "    .dataframe tbody tr th:only-of-type {\n",
       "        vertical-align: middle;\n",
       "    }\n",
       "\n",
       "    .dataframe tbody tr th {\n",
       "        vertical-align: top;\n",
       "    }\n",
       "\n",
       "    .dataframe thead th {\n",
       "        text-align: right;\n",
       "    }\n",
       "</style>\n",
       "<table border=\"1\" class=\"dataframe\">\n",
       "  <thead>\n",
       "    <tr style=\"text-align: right;\">\n",
       "      <th></th>\n",
       "      <th>INDICATOR</th>\n",
       "      <th>Indicator</th>\n",
       "      <th>LOCATION</th>\n",
       "      <th>Country</th>\n",
       "      <th>TIME</th>\n",
       "      <th>Time</th>\n",
       "      <th>Value</th>\n",
       "      <th>Flag Codes</th>\n",
       "      <th>Flags</th>\n",
       "    </tr>\n",
       "  </thead>\n",
       "  <tbody>\n",
       "    <tr>\n",
       "      <th>1939</th>\n",
       "      <td>21105</td>\n",
       "      <td>Researchers (HC) - Female</td>\n",
       "      <td>THA</td>\n",
       "      <td>Thailand</td>\n",
       "      <td>2011</td>\n",
       "      <td>2011</td>\n",
       "      <td>26951.0</td>\n",
       "      <td>NaN</td>\n",
       "      <td>NaN</td>\n",
       "    </tr>\n",
       "    <tr>\n",
       "      <th>1941</th>\n",
       "      <td>21105</td>\n",
       "      <td>Researchers (HC) - Female</td>\n",
       "      <td>THA</td>\n",
       "      <td>Thailand</td>\n",
       "      <td>2015</td>\n",
       "      <td>2015</td>\n",
       "      <td>40802.0</td>\n",
       "      <td>NaN</td>\n",
       "      <td>NaN</td>\n",
       "    </tr>\n",
       "    <tr>\n",
       "      <th>1942</th>\n",
       "      <td>21105</td>\n",
       "      <td>Researchers (HC) - Female</td>\n",
       "      <td>THA</td>\n",
       "      <td>Thailand</td>\n",
       "      <td>2016</td>\n",
       "      <td>2016</td>\n",
       "      <td>64848.0</td>\n",
       "      <td>NaN</td>\n",
       "      <td>NaN</td>\n",
       "    </tr>\n",
       "  </tbody>\n",
       "</table>\n",
       "</div>"
      ],
      "text/plain": [
       "     INDICATOR                  Indicator LOCATION   Country  TIME  Time  \\\n",
       "1939     21105  Researchers (HC) - Female      THA  Thailand  2011  2011   \n",
       "1941     21105  Researchers (HC) - Female      THA  Thailand  2015  2015   \n",
       "1942     21105  Researchers (HC) - Female      THA  Thailand  2016  2016   \n",
       "\n",
       "        Value Flag Codes Flags  \n",
       "1939  26951.0        NaN   NaN  \n",
       "1941  40802.0        NaN   NaN  \n",
       "1942  64848.0        NaN   NaN  "
      ]
     },
     "execution_count": 41,
     "metadata": {},
     "output_type": "execute_result"
    }
   ],
   "source": [
    "research_thai"
   ]
  },
  {
   "cell_type": "code",
   "execution_count": 42,
   "metadata": {},
   "outputs": [],
   "source": [
    "# tech_thai = tech[(tech.Indicator == 'Technicians (HC) - % Female') & (tech.Country == 'Thailand')]\n",
    "tech_thai = tech[(tech.Indicator == 'Technicians (HC) - Female') & (tech.Country == 'Thailand')]"
   ]
  },
  {
   "cell_type": "code",
   "execution_count": 43,
   "metadata": {},
   "outputs": [
    {
     "data": {
      "text/html": [
       "<div>\n",
       "<style scoped>\n",
       "    .dataframe tbody tr th:only-of-type {\n",
       "        vertical-align: middle;\n",
       "    }\n",
       "\n",
       "    .dataframe tbody tr th {\n",
       "        vertical-align: top;\n",
       "    }\n",
       "\n",
       "    .dataframe thead th {\n",
       "        text-align: right;\n",
       "    }\n",
       "</style>\n",
       "<table border=\"1\" class=\"dataframe\">\n",
       "  <thead>\n",
       "    <tr style=\"text-align: right;\">\n",
       "      <th></th>\n",
       "      <th>INDICATOR</th>\n",
       "      <th>Indicator</th>\n",
       "      <th>LOCATION</th>\n",
       "      <th>Country</th>\n",
       "      <th>TIME</th>\n",
       "      <th>Time</th>\n",
       "      <th>Value</th>\n",
       "      <th>Flag Codes</th>\n",
       "      <th>Flags</th>\n",
       "    </tr>\n",
       "  </thead>\n",
       "  <tbody>\n",
       "    <tr>\n",
       "      <th>1085</th>\n",
       "      <td>21106</td>\n",
       "      <td>Technicians (HC) - Female</td>\n",
       "      <td>THA</td>\n",
       "      <td>Thailand</td>\n",
       "      <td>2011</td>\n",
       "      <td>2011</td>\n",
       "      <td>14238.0</td>\n",
       "      <td>NaN</td>\n",
       "      <td>NaN</td>\n",
       "    </tr>\n",
       "    <tr>\n",
       "      <th>1086</th>\n",
       "      <td>21106</td>\n",
       "      <td>Technicians (HC) - Female</td>\n",
       "      <td>THA</td>\n",
       "      <td>Thailand</td>\n",
       "      <td>2015</td>\n",
       "      <td>2015</td>\n",
       "      <td>10280.0</td>\n",
       "      <td>NaN</td>\n",
       "      <td>NaN</td>\n",
       "    </tr>\n",
       "    <tr>\n",
       "      <th>1087</th>\n",
       "      <td>21106</td>\n",
       "      <td>Technicians (HC) - Female</td>\n",
       "      <td>THA</td>\n",
       "      <td>Thailand</td>\n",
       "      <td>2016</td>\n",
       "      <td>2016</td>\n",
       "      <td>16408.0</td>\n",
       "      <td>NaN</td>\n",
       "      <td>NaN</td>\n",
       "    </tr>\n",
       "  </tbody>\n",
       "</table>\n",
       "</div>"
      ],
      "text/plain": [
       "     INDICATOR                  Indicator LOCATION   Country  TIME  Time  \\\n",
       "1085     21106  Technicians (HC) - Female      THA  Thailand  2011  2011   \n",
       "1086     21106  Technicians (HC) - Female      THA  Thailand  2015  2015   \n",
       "1087     21106  Technicians (HC) - Female      THA  Thailand  2016  2016   \n",
       "\n",
       "        Value Flag Codes Flags  \n",
       "1085  14238.0        NaN   NaN  \n",
       "1086  10280.0        NaN   NaN  \n",
       "1087  16408.0        NaN   NaN  "
      ]
     },
     "execution_count": 43,
     "metadata": {},
     "output_type": "execute_result"
    }
   ],
   "source": [
    "tech_thai"
   ]
  },
  {
   "cell_type": "code",
   "execution_count": 49,
   "metadata": {},
   "outputs": [],
   "source": [
    "# Add original data\n",
    "trace1 = go.Scatter(name = 'R&D Personnel',\n",
    "    x=rnd_thai.Time,\n",
    "    y=rnd_thai.Value,\n",
    "    fill='tozeroy')\n",
    "trace2 = go.Scatter(name = 'Researchers',\n",
    "    x=research_thai.Time,\n",
    "    y=research_thai.Value,\n",
    "    fill='tonexty')\n",
    "\n",
    "trace3 = go.Scatter(name = 'Technicians',\n",
    "    x=tech_thai.Time,\n",
    "    y=tech_thai.Value,\n",
    "    fill='tonextx')\n",
    "\n",
    "layout = go.Layout(\n",
    "    title='Head Count of Female STEM Employees Across Occupations (2011-2016)',\n",
    "    xaxis = dict(title='Year'),\n",
    "    yaxis = dict(title='Head Count'), annotations=[\n",
    "        dict(\n",
    "            x=1.07,\n",
    "            y=1.05,\n",
    "            align = \"left\",\n",
    "            valign=\"top\",\n",
    "            text='Occupations',\n",
    "            showarrow=False,\n",
    "            xref=\"paper\",\n",
    "            yref=\"paper\",\n",
    "            xanchor=\"center\",\n",
    "            yanchor=\"top\"\n",
    "        )\n",
    "    ])\n",
    "\n",
    "data = [trace1, trace2, trace3]\n",
    "\n",
    "fig = go.Figure(data=data, layout=layout)\n"
   ]
  },
  {
   "cell_type": "code",
   "execution_count": 50,
   "metadata": {},
   "outputs": [
    {
     "data": {
      "text/html": [
       "<iframe id=\"igraph\" scrolling=\"no\" style=\"border:none;\" seamless=\"seamless\" src=\"https://plot.ly/~ninahua/32.embed\" height=\"525px\" width=\"100%\"></iframe>"
      ],
      "text/plain": [
       "<plotly.tools.PlotlyDisplay object>"
      ]
     },
     "execution_count": 50,
     "metadata": {},
     "output_type": "execute_result"
    }
   ],
   "source": [
    "py.iplot(fig, filename='stacked-area-thailand')"
   ]
  },
  {
   "cell_type": "code",
   "execution_count": null,
   "metadata": {},
   "outputs": [],
   "source": []
  }
 ],
 "metadata": {
  "kernelspec": {
   "display_name": "Python 3",
   "language": "python",
   "name": "python3"
  },
  "language_info": {
   "codemirror_mode": {
    "name": "ipython",
    "version": 3
   },
   "file_extension": ".py",
   "mimetype": "text/x-python",
   "name": "python",
   "nbconvert_exporter": "python",
   "pygments_lexer": "ipython3",
   "version": "3.7.1"
  }
 },
 "nbformat": 4,
 "nbformat_minor": 2
}
