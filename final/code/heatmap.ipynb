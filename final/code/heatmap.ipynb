{
 "cells": [
  {
   "cell_type": "markdown",
   "metadata": {},
   "source": [
    "# Heat map"
   ]
  },
  {
   "cell_type": "markdown",
   "metadata": {},
   "source": [
    "Heat map of mean amount of female researchers across different qualifications over the last couple of years "
   ]
  },
  {
   "cell_type": "code",
   "execution_count": 1,
   "metadata": {},
   "outputs": [],
   "source": [
    "import pandas as pd \n",
    "import numpy as np\n",
    "import plotly.plotly as py\n",
    "import plotly.graph_objs as go"
   ]
  },
  {
   "cell_type": "code",
   "execution_count": 2,
   "metadata": {},
   "outputs": [],
   "source": [
    "data = pd.read_csv('../data/qualification_researchers.csv')"
   ]
  },
  {
   "cell_type": "code",
   "execution_count": 3,
   "metadata": {},
   "outputs": [
    {
     "data": {
      "text/html": [
       "<div>\n",
       "<style scoped>\n",
       "    .dataframe tbody tr th:only-of-type {\n",
       "        vertical-align: middle;\n",
       "    }\n",
       "\n",
       "    .dataframe tbody tr th {\n",
       "        vertical-align: top;\n",
       "    }\n",
       "\n",
       "    .dataframe thead th {\n",
       "        text-align: right;\n",
       "    }\n",
       "</style>\n",
       "<table border=\"1\" class=\"dataframe\">\n",
       "  <thead>\n",
       "    <tr style=\"text-align: right;\">\n",
       "      <th></th>\n",
       "      <th>INDICATOR</th>\n",
       "      <th>Indicator</th>\n",
       "      <th>LOCATION</th>\n",
       "      <th>Country</th>\n",
       "      <th>TIME</th>\n",
       "      <th>Time</th>\n",
       "      <th>Value</th>\n",
       "      <th>Flag Codes</th>\n",
       "      <th>Flags</th>\n",
       "    </tr>\n",
       "  </thead>\n",
       "  <tbody>\n",
       "    <tr>\n",
       "      <th>0</th>\n",
       "      <td>20001</td>\n",
       "      <td>Researchers (FTE) - Total</td>\n",
       "      <td>AUT</td>\n",
       "      <td>Austria</td>\n",
       "      <td>2011</td>\n",
       "      <td>2011</td>\n",
       "      <td>37113.8</td>\n",
       "      <td>NaN</td>\n",
       "      <td>NaN</td>\n",
       "    </tr>\n",
       "    <tr>\n",
       "      <th>1</th>\n",
       "      <td>20001</td>\n",
       "      <td>Researchers (FTE) - Total</td>\n",
       "      <td>AUT</td>\n",
       "      <td>Austria</td>\n",
       "      <td>2012</td>\n",
       "      <td>2012</td>\n",
       "      <td>39700.7</td>\n",
       "      <td>NaN</td>\n",
       "      <td>NaN</td>\n",
       "    </tr>\n",
       "    <tr>\n",
       "      <th>2</th>\n",
       "      <td>20001</td>\n",
       "      <td>Researchers (FTE) - Total</td>\n",
       "      <td>AUT</td>\n",
       "      <td>Austria</td>\n",
       "      <td>2013</td>\n",
       "      <td>2013</td>\n",
       "      <td>40425.6</td>\n",
       "      <td>NaN</td>\n",
       "      <td>NaN</td>\n",
       "    </tr>\n",
       "    <tr>\n",
       "      <th>3</th>\n",
       "      <td>20001</td>\n",
       "      <td>Researchers (FTE) - Total</td>\n",
       "      <td>AUT</td>\n",
       "      <td>Austria</td>\n",
       "      <td>2014</td>\n",
       "      <td>2014</td>\n",
       "      <td>42627.0</td>\n",
       "      <td>NaN</td>\n",
       "      <td>NaN</td>\n",
       "    </tr>\n",
       "    <tr>\n",
       "      <th>4</th>\n",
       "      <td>20001</td>\n",
       "      <td>Researchers (FTE) - Total</td>\n",
       "      <td>AUT</td>\n",
       "      <td>Austria</td>\n",
       "      <td>2015</td>\n",
       "      <td>2015</td>\n",
       "      <td>43562.0</td>\n",
       "      <td>NaN</td>\n",
       "      <td>NaN</td>\n",
       "    </tr>\n",
       "  </tbody>\n",
       "</table>\n",
       "</div>"
      ],
      "text/plain": [
       "  INDICATOR                   Indicator LOCATION  Country  TIME  Time  \\\n",
       "0     20001  Researchers (FTE) - Total       AUT  Austria  2011  2011   \n",
       "1     20001  Researchers (FTE) - Total       AUT  Austria  2012  2012   \n",
       "2     20001  Researchers (FTE) - Total       AUT  Austria  2013  2013   \n",
       "3     20001  Researchers (FTE) - Total       AUT  Austria  2014  2014   \n",
       "4     20001  Researchers (FTE) - Total       AUT  Austria  2015  2015   \n",
       "\n",
       "     Value Flag Codes Flags  \n",
       "0  37113.8        NaN   NaN  \n",
       "1  39700.7        NaN   NaN  \n",
       "2  40425.6        NaN   NaN  \n",
       "3  42627.0        NaN   NaN  \n",
       "4  43562.0        NaN   NaN  "
      ]
     },
     "execution_count": 3,
     "metadata": {},
     "output_type": "execute_result"
    }
   ],
   "source": [
    "data.head()"
   ]
  },
  {
   "cell_type": "code",
   "execution_count": 5,
   "metadata": {},
   "outputs": [],
   "source": [
    "qualifications = ['Researchers (HC) - Female - ISCED 8 ', 'Researchers (HC) - Female - ISCED 5',\n",
    "                 'Researchers (HC) - Female - ISCED 6', 'Researchers (HC) - Female - ISCED 7 ']\n",
    "data = data[(data.Indicator.isin(qualifications)) & ~(data.Value.isna())]"
   ]
  },
  {
   "cell_type": "code",
   "execution_count": 11,
   "metadata": {},
   "outputs": [],
   "source": [
    "# get summed Value information per year and indicator \n",
    "data_agg = data.groupby(['Time', 'Indicator']).mean().reset_index()[['Indicator','Time', 'Value']]"
   ]
  },
  {
   "cell_type": "code",
   "execution_count": 23,
   "metadata": {},
   "outputs": [],
   "source": [
    "data_agg_5 = data_agg[data_agg.Indicator == 'Researchers (HC) - Female - ISCED 5'].Value.values\n",
    "data_agg_6 = data_agg[data_agg.Indicator == 'Researchers (HC) - Female - ISCED 6'].Value.values\n",
    "data_agg_7 = data_agg[data_agg.Indicator == 'Researchers (HC) - Female - ISCED 7 '].Value.values\n",
    "data_agg_8 = data_agg[data_agg.Indicator == 'Researchers (HC) - Female - ISCED 8 '].Value.values"
   ]
  },
  {
   "cell_type": "code",
   "execution_count": 50,
   "metadata": {},
   "outputs": [
    {
     "data": {
      "text/html": [
       "<iframe id=\"igraph\" scrolling=\"no\" style=\"border:none;\" seamless=\"seamless\" src=\"https://plot.ly/~ninahua/30.embed\" height=\"525px\" width=\"100%\"></iframe>"
      ],
      "text/plain": [
       "<plotly.tools.PlotlyDisplay object>"
      ]
     },
     "execution_count": 50,
     "metadata": {},
     "output_type": "execute_result"
    }
   ],
   "source": [
    "trace = go.Heatmap(z=[data_agg_5, data_agg_6, data_agg_7, data_agg_8],\n",
    "                   x=['2011', '2012', '2013', '2014', '2015', '2016', '2017'],\n",
    "                   y=['ISCED 5','ISCED 6','ISCED 7 ','ISCED 8 '])\n",
    "\n",
    "\n",
    "layout = go.Layout(\n",
    "    title='Average Head Count of Female Researchers Across Qualifications (2011-2017)',\n",
    "    xaxis = dict(title='Year'),\n",
    "    yaxis = dict(title='Qualification'), annotations=[\n",
    "        dict(\n",
    "            x=1.07,\n",
    "            y=1.10,\n",
    "            align = \"left\",\n",
    "            valign=\"top\",\n",
    "            text='Average Head <br> Count',\n",
    "            showarrow=False,\n",
    "            xref=\"paper\",\n",
    "            yref=\"paper\",\n",
    "            xanchor=\"center\",\n",
    "            yanchor=\"top\"\n",
    "        )\n",
    "    ])\n",
    "\n",
    "fig = go.Figure(data=[trace], layout=layout)\n",
    "\n",
    "py.iplot(fig, filename='researchers_qualifications_heatmap')"
   ]
  },
  {
   "cell_type": "code",
   "execution_count": null,
   "metadata": {},
   "outputs": [],
   "source": []
  },
  {
   "cell_type": "code",
   "execution_count": null,
   "metadata": {},
   "outputs": [],
   "source": []
  }
 ],
 "metadata": {
  "kernelspec": {
   "display_name": "Python 3",
   "language": "python",
   "name": "python3"
  },
  "language_info": {
   "codemirror_mode": {
    "name": "ipython",
    "version": 3
   },
   "file_extension": ".py",
   "mimetype": "text/x-python",
   "name": "python",
   "nbconvert_exporter": "python",
   "pygments_lexer": "ipython3",
   "version": "3.7.1"
  }
 },
 "nbformat": 4,
 "nbformat_minor": 2
}
