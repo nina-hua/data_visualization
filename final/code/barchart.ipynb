{
 "cells": [
  {
   "cell_type": "markdown",
   "metadata": {},
   "source": [
    "# Bar Chart"
   ]
  },
  {
   "cell_type": "markdown",
   "metadata": {},
   "source": [
    "Bar Chart of Female Researchers (head count %) across different sectors:\n",
    "- Business enterprise  \n",
    "- Government  \n",
    "- Higher education  \n",
    "- Private non-profit  \n",
    "- Not specified"
   ]
  },
  {
   "cell_type": "code",
   "execution_count": 1,
   "metadata": {},
   "outputs": [],
   "source": [
    "import pandas as pd \n",
    "import numpy as np\n",
    "import plotly.plotly as py\n",
    "import plotly.graph_objs as go\n",
    "from collections import Counter"
   ]
  },
  {
   "cell_type": "code",
   "execution_count": 2,
   "metadata": {},
   "outputs": [],
   "source": [
    "data = pd.read_csv('../data/section_researchers.csv')  # reading in data "
   ]
  },
  {
   "cell_type": "code",
   "execution_count": 3,
   "metadata": {},
   "outputs": [
    {
     "data": {
      "text/plain": [
       "Counter({2011: 2537,\n",
       "         2012: 2044,\n",
       "         2013: 2490,\n",
       "         2014: 2450,\n",
       "         2015: 2876,\n",
       "         2016: 1484,\n",
       "         2017: 729})"
      ]
     },
     "execution_count": 3,
     "metadata": {},
     "output_type": "execute_result"
    }
   ],
   "source": [
    "Counter(data.Time)  # Use 2015 data "
   ]
  },
  {
   "cell_type": "code",
   "execution_count": 4,
   "metadata": {},
   "outputs": [],
   "source": [
    "# filtering \n",
    "sectors = ['Researchers (HC) - Female - Business enterprise',\n",
    "       'Researchers (HC) - Female - Government',\n",
    "       'Researchers (HC) - Female - Higher education',\n",
    "       'Researchers (HC) - Female - Private non-profit',\n",
    "       'Researchers (HC) - Female - Not specified sectors']\n",
    "data_sectors = data[(data.Indicator.isin(sectors)) & (data.Time == 2015) & ~(data.Value.isna())]"
   ]
  },
  {
   "cell_type": "code",
   "execution_count": 5,
   "metadata": {},
   "outputs": [
    {
     "data": {
      "text/html": [
       "<div>\n",
       "<style scoped>\n",
       "    .dataframe tbody tr th:only-of-type {\n",
       "        vertical-align: middle;\n",
       "    }\n",
       "\n",
       "    .dataframe tbody tr th {\n",
       "        vertical-align: top;\n",
       "    }\n",
       "\n",
       "    .dataframe thead th {\n",
       "        text-align: right;\n",
       "    }\n",
       "</style>\n",
       "<table border=\"1\" class=\"dataframe\">\n",
       "  <thead>\n",
       "    <tr style=\"text-align: right;\">\n",
       "      <th></th>\n",
       "      <th>INDICATOR</th>\n",
       "      <th>Indicator</th>\n",
       "      <th>LOCATION</th>\n",
       "      <th>Country</th>\n",
       "      <th>TIME</th>\n",
       "      <th>Time</th>\n",
       "      <th>Value</th>\n",
       "      <th>Flag Codes</th>\n",
       "      <th>Flags</th>\n",
       "    </tr>\n",
       "  </thead>\n",
       "  <tbody>\n",
       "    <tr>\n",
       "      <th>8878</th>\n",
       "      <td>21726</td>\n",
       "      <td>Researchers (HC) - Female - Business enterprise</td>\n",
       "      <td>AUT</td>\n",
       "      <td>Austria</td>\n",
       "      <td>2015</td>\n",
       "      <td>2015</td>\n",
       "      <td>6320.00</td>\n",
       "      <td>NaN</td>\n",
       "      <td>NaN</td>\n",
       "    </tr>\n",
       "    <tr>\n",
       "      <th>8881</th>\n",
       "      <td>21726</td>\n",
       "      <td>Researchers (HC) - Female - Business enterprise</td>\n",
       "      <td>BEL</td>\n",
       "      <td>Belgium</td>\n",
       "      <td>2015</td>\n",
       "      <td>2015</td>\n",
       "      <td>10030.00</td>\n",
       "      <td>NaN</td>\n",
       "      <td>NaN</td>\n",
       "    </tr>\n",
       "    <tr>\n",
       "      <th>8886</th>\n",
       "      <td>21726</td>\n",
       "      <td>Researchers (HC) - Female - Business enterprise</td>\n",
       "      <td>CZE</td>\n",
       "      <td>Czechia</td>\n",
       "      <td>2015</td>\n",
       "      <td>2015</td>\n",
       "      <td>2886.54</td>\n",
       "      <td>NaN</td>\n",
       "      <td>NaN</td>\n",
       "    </tr>\n",
       "    <tr>\n",
       "      <th>8890</th>\n",
       "      <td>21726</td>\n",
       "      <td>Researchers (HC) - Female - Business enterprise</td>\n",
       "      <td>DNK</td>\n",
       "      <td>Denmark</td>\n",
       "      <td>2015</td>\n",
       "      <td>2015</td>\n",
       "      <td>6860.00</td>\n",
       "      <td>NaN</td>\n",
       "      <td>NaN</td>\n",
       "    </tr>\n",
       "    <tr>\n",
       "      <th>8895</th>\n",
       "      <td>21726</td>\n",
       "      <td>Researchers (HC) - Female - Business enterprise</td>\n",
       "      <td>FIN</td>\n",
       "      <td>Finland</td>\n",
       "      <td>2015</td>\n",
       "      <td>2015</td>\n",
       "      <td>4849.00</td>\n",
       "      <td>NaN</td>\n",
       "      <td>NaN</td>\n",
       "    </tr>\n",
       "  </tbody>\n",
       "</table>\n",
       "</div>"
      ],
      "text/plain": [
       "     INDICATOR                                        Indicator LOCATION  \\\n",
       "8878     21726  Researchers (HC) - Female - Business enterprise      AUT   \n",
       "8881     21726  Researchers (HC) - Female - Business enterprise      BEL   \n",
       "8886     21726  Researchers (HC) - Female - Business enterprise      CZE   \n",
       "8890     21726  Researchers (HC) - Female - Business enterprise      DNK   \n",
       "8895     21726  Researchers (HC) - Female - Business enterprise      FIN   \n",
       "\n",
       "      Country  TIME  Time     Value Flag Codes Flags  \n",
       "8878  Austria  2015  2015   6320.00        NaN   NaN  \n",
       "8881  Belgium  2015  2015  10030.00        NaN   NaN  \n",
       "8886  Czechia  2015  2015   2886.54        NaN   NaN  \n",
       "8890  Denmark  2015  2015   6860.00        NaN   NaN  \n",
       "8895  Finland  2015  2015   4849.00        NaN   NaN  "
      ]
     },
     "execution_count": 5,
     "metadata": {},
     "output_type": "execute_result"
    }
   ],
   "source": [
    "data_sectors.head()"
   ]
  },
  {
   "cell_type": "code",
   "execution_count": 6,
   "metadata": {},
   "outputs": [],
   "source": [
    "# sum headcounts per section across countries \n",
    "data_sector_agg = data_sectors.groupby(['Indicator'])['Indicator','Value'].sum().reset_index()"
   ]
  },
  {
   "cell_type": "code",
   "execution_count": 7,
   "metadata": {},
   "outputs": [],
   "source": [
    "# add sector name for cleaner plotting \n",
    "data_sector_agg['Sector'] = ['Business enterprise', 'Government', 'Higher education', 'Not specified', 'Private non-profit']"
   ]
  },
  {
   "cell_type": "code",
   "execution_count": 8,
   "metadata": {},
   "outputs": [],
   "source": [
    "# drop Not specified sector because so insignifcant compared to other sectors \n",
    "data_sector_agg = data_sector_agg.iloc[[0, 1, 2, 4],:]\n",
    "\n",
    "# round value \n",
    "data_sector_agg['Value'] = data_sector_agg.apply(lambda row: np.round(row['Value']), axis=1)\n"
   ]
  },
  {
   "cell_type": "code",
   "execution_count": 9,
   "metadata": {},
   "outputs": [
    {
     "data": {
      "text/html": [
       "<div>\n",
       "<style scoped>\n",
       "    .dataframe tbody tr th:only-of-type {\n",
       "        vertical-align: middle;\n",
       "    }\n",
       "\n",
       "    .dataframe tbody tr th {\n",
       "        vertical-align: top;\n",
       "    }\n",
       "\n",
       "    .dataframe thead th {\n",
       "        text-align: right;\n",
       "    }\n",
       "</style>\n",
       "<table border=\"1\" class=\"dataframe\">\n",
       "  <thead>\n",
       "    <tr style=\"text-align: right;\">\n",
       "      <th></th>\n",
       "      <th>Indicator</th>\n",
       "      <th>Value</th>\n",
       "      <th>Sector</th>\n",
       "    </tr>\n",
       "  </thead>\n",
       "  <tbody>\n",
       "    <tr>\n",
       "      <th>0</th>\n",
       "      <td>Researchers (HC) - Female - Business enterprise</td>\n",
       "      <td>444241.0</td>\n",
       "      <td>Business enterprise</td>\n",
       "    </tr>\n",
       "    <tr>\n",
       "      <th>1</th>\n",
       "      <td>Researchers (HC) - Female - Government</td>\n",
       "      <td>266885.0</td>\n",
       "      <td>Government</td>\n",
       "    </tr>\n",
       "    <tr>\n",
       "      <th>2</th>\n",
       "      <td>Researchers (HC) - Female - Higher education</td>\n",
       "      <td>1052424.0</td>\n",
       "      <td>Higher education</td>\n",
       "    </tr>\n",
       "    <tr>\n",
       "      <th>4</th>\n",
       "      <td>Researchers (HC) - Female - Private non-profit</td>\n",
       "      <td>16194.0</td>\n",
       "      <td>Private non-profit</td>\n",
       "    </tr>\n",
       "  </tbody>\n",
       "</table>\n",
       "</div>"
      ],
      "text/plain": [
       "                                         Indicator      Value  \\\n",
       "0  Researchers (HC) - Female - Business enterprise   444241.0   \n",
       "1           Researchers (HC) - Female - Government   266885.0   \n",
       "2     Researchers (HC) - Female - Higher education  1052424.0   \n",
       "4   Researchers (HC) - Female - Private non-profit    16194.0   \n",
       "\n",
       "                Sector  \n",
       "0  Business enterprise  \n",
       "1           Government  \n",
       "2     Higher education  \n",
       "4   Private non-profit  "
      ]
     },
     "execution_count": 9,
     "metadata": {},
     "output_type": "execute_result"
    }
   ],
   "source": [
    "# round value \n",
    "data_sector_agg"
   ]
  },
  {
   "cell_type": "code",
   "execution_count": 10,
   "metadata": {},
   "outputs": [
    {
     "name": "stderr",
     "output_type": "stream",
     "text": [
      "/Users/Nina/bin/anaconda3/envs/msds622/lib/python3.7/site-packages/IPython/core/display.py:689: UserWarning:\n",
      "\n",
      "Consider using IPython.display.IFrame instead\n",
      "\n"
     ]
    },
    {
     "data": {
      "text/html": [
       "<iframe id=\"igraph\" scrolling=\"no\" style=\"border:none;\" seamless=\"seamless\" src=\"https://plot.ly/~ninahua/18.embed\" height=\"525px\" width=\"100%\"></iframe>"
      ],
      "text/plain": [
       "<plotly.tools.PlotlyDisplay object>"
      ]
     },
     "execution_count": 10,
     "metadata": {},
     "output_type": "execute_result"
    }
   ],
   "source": [
    "x = data_sector_agg.Sector\n",
    "y = data_sector_agg.Value\n",
    "\n",
    "data_bar = [go.Bar(\n",
    "            x=x,\n",
    "            y=y,\n",
    "            text=y,\n",
    "            textposition = 'auto',\n",
    "            marker=dict(\n",
    "                color='rgb(255, 191, 0)',\n",
    "                line=dict(\n",
    "                    color='rgb(8,48,107)',\n",
    "                    width=1.5),\n",
    "            ),\n",
    "            opacity=0.6\n",
    "        )]\n",
    "\n",
    "layout = go.Layout(\n",
    "    title = go.layout.Title(\n",
    "        text = 'Total Female Researchers (Head count) across Sectors (2015)'\n",
    "    ),\n",
    "    xaxis=dict(\n",
    "        title='Sectors'\n",
    "    ),\n",
    "    yaxis=dict(\n",
    "        title='Total Head Count'\n",
    "    )\n",
    ")\n",
    "fig = go.Figure(data=data_bar, layout=layout)\n",
    "\n",
    "py.iplot(fig, filename='Female Researchers HC by Sector')"
   ]
  }
 ],
 "metadata": {
  "kernelspec": {
   "display_name": "Python 3",
   "language": "python",
   "name": "python3"
  },
  "language_info": {
   "codemirror_mode": {
    "name": "ipython",
    "version": 3
   },
   "file_extension": ".py",
   "mimetype": "text/x-python",
   "name": "python",
   "nbconvert_exporter": "python",
   "pygments_lexer": "ipython3",
   "version": "3.7.1"
  }
 },
 "nbformat": 4,
 "nbformat_minor": 2
}
