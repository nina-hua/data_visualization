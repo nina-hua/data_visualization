{
 "cells": [
  {
   "cell_type": "markdown",
   "metadata": {},
   "source": [
    "# Boxplot"
   ]
  },
  {
   "cell_type": "markdown",
   "metadata": {},
   "source": [
    "Boxplot of female researchers by seniority"
   ]
  },
  {
   "cell_type": "code",
   "execution_count": 1,
   "metadata": {},
   "outputs": [],
   "source": [
    "import pandas as pd \n",
    "import numpy as np\n",
    "import plotly.plotly as py\n",
    "import plotly.graph_objs as go\n",
    "from collections import Counter"
   ]
  },
  {
   "cell_type": "code",
   "execution_count": 2,
   "metadata": {},
   "outputs": [],
   "source": [
    "data = pd.read_csv('../data/seniority_researchers.csv')"
   ]
  },
  {
   "cell_type": "code",
   "execution_count": 3,
   "metadata": {},
   "outputs": [
    {
     "data": {
      "text/html": [
       "<div>\n",
       "<style scoped>\n",
       "    .dataframe tbody tr th:only-of-type {\n",
       "        vertical-align: middle;\n",
       "    }\n",
       "\n",
       "    .dataframe tbody tr th {\n",
       "        vertical-align: top;\n",
       "    }\n",
       "\n",
       "    .dataframe thead th {\n",
       "        text-align: right;\n",
       "    }\n",
       "</style>\n",
       "<table border=\"1\" class=\"dataframe\">\n",
       "  <thead>\n",
       "    <tr style=\"text-align: right;\">\n",
       "      <th></th>\n",
       "      <th>INDICATOR</th>\n",
       "      <th>Indicator</th>\n",
       "      <th>LOCATION</th>\n",
       "      <th>Country</th>\n",
       "      <th>TIME</th>\n",
       "      <th>Time</th>\n",
       "      <th>Value</th>\n",
       "      <th>Flag Codes</th>\n",
       "      <th>Flags</th>\n",
       "    </tr>\n",
       "  </thead>\n",
       "  <tbody>\n",
       "    <tr>\n",
       "      <th>0</th>\n",
       "      <td>21001</td>\n",
       "      <td>Researchers (HC) - Total</td>\n",
       "      <td>AUT</td>\n",
       "      <td>Austria</td>\n",
       "      <td>2011</td>\n",
       "      <td>2011</td>\n",
       "      <td>65609.0</td>\n",
       "      <td>NaN</td>\n",
       "      <td>NaN</td>\n",
       "    </tr>\n",
       "    <tr>\n",
       "      <th>1</th>\n",
       "      <td>21001</td>\n",
       "      <td>Researchers (HC) - Total</td>\n",
       "      <td>AUT</td>\n",
       "      <td>Austria</td>\n",
       "      <td>2013</td>\n",
       "      <td>2013</td>\n",
       "      <td>71448.0</td>\n",
       "      <td>NaN</td>\n",
       "      <td>NaN</td>\n",
       "    </tr>\n",
       "    <tr>\n",
       "      <th>2</th>\n",
       "      <td>21001</td>\n",
       "      <td>Researchers (HC) - Total</td>\n",
       "      <td>AUT</td>\n",
       "      <td>Austria</td>\n",
       "      <td>2015</td>\n",
       "      <td>2015</td>\n",
       "      <td>78051.0</td>\n",
       "      <td>NaN</td>\n",
       "      <td>NaN</td>\n",
       "    </tr>\n",
       "    <tr>\n",
       "      <th>3</th>\n",
       "      <td>21001</td>\n",
       "      <td>Researchers (HC) - Total</td>\n",
       "      <td>BEL</td>\n",
       "      <td>Belgium</td>\n",
       "      <td>2011</td>\n",
       "      <td>2011</td>\n",
       "      <td>63207.0</td>\n",
       "      <td>NaN</td>\n",
       "      <td>NaN</td>\n",
       "    </tr>\n",
       "    <tr>\n",
       "      <th>4</th>\n",
       "      <td>21001</td>\n",
       "      <td>Researchers (HC) - Total</td>\n",
       "      <td>BEL</td>\n",
       "      <td>Belgium</td>\n",
       "      <td>2013</td>\n",
       "      <td>2013</td>\n",
       "      <td>66724.0</td>\n",
       "      <td>NaN</td>\n",
       "      <td>NaN</td>\n",
       "    </tr>\n",
       "  </tbody>\n",
       "</table>\n",
       "</div>"
      ],
      "text/plain": [
       "  INDICATOR                  Indicator LOCATION  Country  TIME  Time    Value  \\\n",
       "0     21001  Researchers (HC) - Total       AUT  Austria  2011  2011  65609.0   \n",
       "1     21001  Researchers (HC) - Total       AUT  Austria  2013  2013  71448.0   \n",
       "2     21001  Researchers (HC) - Total       AUT  Austria  2015  2015  78051.0   \n",
       "3     21001  Researchers (HC) - Total       BEL  Belgium  2011  2011  63207.0   \n",
       "4     21001  Researchers (HC) - Total       BEL  Belgium  2013  2013  66724.0   \n",
       "\n",
       "  Flag Codes Flags  \n",
       "0        NaN   NaN  \n",
       "1        NaN   NaN  \n",
       "2        NaN   NaN  \n",
       "3        NaN   NaN  \n",
       "4        NaN   NaN  "
      ]
     },
     "execution_count": 3,
     "metadata": {},
     "output_type": "execute_result"
    }
   ],
   "source": [
    "data.head()"
   ]
  },
  {
   "cell_type": "code",
   "execution_count": 4,
   "metadata": {},
   "outputs": [
    {
     "data": {
      "text/plain": [
       "Counter({2011: 249,\n",
       "         2013: 246,\n",
       "         2015: 372,\n",
       "         2012: 213,\n",
       "         2014: 217,\n",
       "         2016: 358,\n",
       "         2017: 172})"
      ]
     },
     "execution_count": 4,
     "metadata": {},
     "output_type": "execute_result"
    }
   ],
   "source": [
    "Counter(data.Time)  # use 2015 data "
   ]
  },
  {
   "cell_type": "code",
   "execution_count": 5,
   "metadata": {},
   "outputs": [],
   "source": [
    "# filtering by seniority groups \n",
    "seniority = ['Researchers (HC) - Female - Category A ','Researchers (HC) - Female - Category B ',\n",
    " 'Researchers (HC) - Female - Category C','Researchers (HC) - Female - Category D',\n",
    " 'Researchers (HC) - Female - Not specified seniority levels']\n",
    "\n",
    "# only years with the data \n",
    "data_seniority_A = data[(data.Indicator == 'Researchers (HC) - Female - Category A ') & (data.Time.isin([2015, 2016, 2017])) & ~(data.Value.isna())]\n",
    "data_seniority_B = data[(data.Indicator == 'Researchers (HC) - Female - Category B ') & (data.Time.isin([2015, 2016, 2017])) & ~(data.Value.isna())]\n",
    "data_seniority_C = data[(data.Indicator == 'Researchers (HC) - Female - Category C') & (data.Time.isin([2015, 2016, 2017])) & ~(data.Value.isna())]\n",
    "data_seniority_D = data[(data.Indicator == 'Researchers (HC) - Female - Category D') & (data.Time.isin([2015, 2016, 2017])) & ~(data.Value.isna())]\n",
    "\n"
   ]
  },
  {
   "cell_type": "code",
   "execution_count": 6,
   "metadata": {},
   "outputs": [],
   "source": [
    "# find the sum to normalize the values \n",
    "group_a_sum = dict(data_seniority_A.groupby(['Time'])['Value'].sum())\n",
    "group_b_sum = dict(data_seniority_B.groupby(['Time'])['Value'].sum())\n",
    "group_c_sum = dict(data_seniority_C.groupby(['Time'])['Value'].sum())\n",
    "group_d_sum = dict(data_seniority_D.groupby(['Time'])['Value'].sum())"
   ]
  },
  {
   "cell_type": "code",
   "execution_count": 7,
   "metadata": {},
   "outputs": [],
   "source": [
    "def normalize_counts(row, sum_dictionary):\n",
    "    \"\"\" Normalize head counts by year and seniority category \"\"\"\n",
    "    if row['Time'] == 2015:\n",
    "        value = row['Value']/sum_dictionary[2015]\n",
    "    elif row['Time'] == 2016:\n",
    "        value = row['Value']/sum_dictionary[2016]\n",
    "    elif row['Time'] == 2017:\n",
    "        value = row['Value']/sum_dictionary[2017]        \n",
    "    else:\n",
    "        value = np.nan  \n",
    "    return value \n"
   ]
  },
  {
   "cell_type": "code",
   "execution_count": 8,
   "metadata": {},
   "outputs": [
    {
     "name": "stderr",
     "output_type": "stream",
     "text": [
      "/Users/Nina/bin/anaconda3/envs/msds622/lib/python3.7/site-packages/ipykernel_launcher.py:2: SettingWithCopyWarning:\n",
      "\n",
      "\n",
      "A value is trying to be set on a copy of a slice from a DataFrame.\n",
      "Try using .loc[row_indexer,col_indexer] = value instead\n",
      "\n",
      "See the caveats in the documentation: http://pandas.pydata.org/pandas-docs/stable/indexing.html#indexing-view-versus-copy\n",
      "\n",
      "/Users/Nina/bin/anaconda3/envs/msds622/lib/python3.7/site-packages/ipykernel_launcher.py:3: SettingWithCopyWarning:\n",
      "\n",
      "\n",
      "A value is trying to be set on a copy of a slice from a DataFrame.\n",
      "Try using .loc[row_indexer,col_indexer] = value instead\n",
      "\n",
      "See the caveats in the documentation: http://pandas.pydata.org/pandas-docs/stable/indexing.html#indexing-view-versus-copy\n",
      "\n",
      "/Users/Nina/bin/anaconda3/envs/msds622/lib/python3.7/site-packages/ipykernel_launcher.py:4: SettingWithCopyWarning:\n",
      "\n",
      "\n",
      "A value is trying to be set on a copy of a slice from a DataFrame.\n",
      "Try using .loc[row_indexer,col_indexer] = value instead\n",
      "\n",
      "See the caveats in the documentation: http://pandas.pydata.org/pandas-docs/stable/indexing.html#indexing-view-versus-copy\n",
      "\n",
      "/Users/Nina/bin/anaconda3/envs/msds622/lib/python3.7/site-packages/ipykernel_launcher.py:5: SettingWithCopyWarning:\n",
      "\n",
      "\n",
      "A value is trying to be set on a copy of a slice from a DataFrame.\n",
      "Try using .loc[row_indexer,col_indexer] = value instead\n",
      "\n",
      "See the caveats in the documentation: http://pandas.pydata.org/pandas-docs/stable/indexing.html#indexing-view-versus-copy\n",
      "\n"
     ]
    }
   ],
   "source": [
    "# adding normalized values for boxplot \n",
    "data_seniority_A['normalized_val'] = data_seniority_A.apply(lambda row: np.round(normalize_counts(row, group_a_sum),4), axis=1)\n",
    "data_seniority_B['normalized_val'] = data_seniority_B.apply(lambda row: np.round(normalize_counts(row, group_b_sum),4), axis=1)\n",
    "data_seniority_C['normalized_val'] = data_seniority_C.apply(lambda row: np.round(normalize_counts(row, group_c_sum),4), axis=1)\n",
    "data_seniority_D['normalized_val'] = data_seniority_D.apply(lambda row: np.round(normalize_counts(row, group_d_sum),4), axis=1)\n"
   ]
  },
  {
   "cell_type": "code",
   "execution_count": 10,
   "metadata": {},
   "outputs": [
    {
     "data": {
      "text/html": [
       "<iframe id=\"igraph\" scrolling=\"no\" style=\"border:none;\" seamless=\"seamless\" src=\"https://plot.ly/~ninahua/26.embed\" height=\"525px\" width=\"100%\"></iframe>"
      ],
      "text/plain": [
       "<plotly.tools.PlotlyDisplay object>"
      ]
     },
     "execution_count": 10,
     "metadata": {},
     "output_type": "execute_result"
    }
   ],
   "source": [
    "trace0 = go.Box(\n",
    "    y=data_seniority_A.normalized_val,\n",
    "    x=data_seniority_A.Time,\n",
    "    name='Seniority Category A',\n",
    "    marker=dict(\n",
    "        color='#3D9970'\n",
    "    )\n",
    ")\n",
    "trace1 = go.Box(\n",
    "    y=data_seniority_B.normalized_val,\n",
    "    x=data_seniority_B.Time,\n",
    "    name='Seniority Category B',\n",
    "    marker=dict(\n",
    "        color='#FF4136'\n",
    "    )\n",
    ")\n",
    "trace2 = go.Box(\n",
    "    y=data_seniority_C.normalized_val,\n",
    "    x=data_seniority_C.Time,\n",
    "    name='Seniority Category C',\n",
    "    marker=dict(\n",
    "        color='#FF851B'\n",
    "    )\n",
    ")\n",
    "trace3 = go.Box(\n",
    "    y=data_seniority_D.normalized_val,\n",
    "    x=data_seniority_D.Time,\n",
    "    name='Seniority Category D',\n",
    "    marker=dict(\n",
    "        color='#4F86F7'\n",
    "    )\n",
    ")\n",
    "\n",
    "data = [trace0, trace1, trace2, trace3]\n",
    "layout = go.Layout(\n",
    "    title = go.layout.Title(\n",
    "        text = 'Normalized Head Counts of Female Researchers Across Seniority Levels (2015-2017)'\n",
    "    ),\n",
    "    xaxis=dict(\n",
    "        title='Year',\n",
    "        zeroline=False\n",
    "    ),\n",
    "    yaxis=dict(\n",
    "        title='Normalized Head Counts',\n",
    "        zeroline=False\n",
    "    ),\n",
    "    boxmode='group',\n",
    "    annotations=[\n",
    "        dict(\n",
    "            x=1.11,\n",
    "            y=1.05,\n",
    "            align=\"left\",\n",
    "            valign=\"top\",\n",
    "            text='Seniority Category',\n",
    "            showarrow=False,\n",
    "            xref=\"paper\",\n",
    "            yref=\"paper\",\n",
    "            xanchor=\"center\",\n",
    "            yanchor=\"top\"\n",
    "        )\n",
    "    ]\n",
    ")\n",
    "fig = go.Figure(data=data, layout=layout)\n",
    "py.iplot(fig, filename='Normalized Head Counts of Female Researchers Across Seniority Levels (2015-2017)')"
   ]
  },
  {
   "cell_type": "code",
   "execution_count": null,
   "metadata": {},
   "outputs": [],
   "source": []
  }
 ],
 "metadata": {
  "kernelspec": {
   "display_name": "Python 3",
   "language": "python",
   "name": "python3"
  },
  "language_info": {
   "codemirror_mode": {
    "name": "ipython",
    "version": 3
   },
   "file_extension": ".py",
   "mimetype": "text/x-python",
   "name": "python",
   "nbconvert_exporter": "python",
   "pygments_lexer": "ipython3",
   "version": "3.7.1"
  }
 },
 "nbformat": 4,
 "nbformat_minor": 2
}
