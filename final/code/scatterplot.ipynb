{
 "cells": [
  {
   "cell_type": "markdown",
   "metadata": {},
   "source": [
    "# Scatterplot"
   ]
  },
  {
   "cell_type": "markdown",
   "metadata": {},
   "source": [
    "Scatterplot of Female R&D personnel of different departments over time "
   ]
  },
  {
   "cell_type": "code",
   "execution_count": 1,
   "metadata": {},
   "outputs": [],
   "source": [
    "import pandas as pd \n",
    "import numpy as np\n",
    "import plotly.plotly as py\n",
    "import plotly.graph_objs as go"
   ]
  },
  {
   "cell_type": "code",
   "execution_count": 2,
   "metadata": {},
   "outputs": [],
   "source": [
    "data = pd.read_csv('../data/field_rd_researchers.csv')"
   ]
  },
  {
   "cell_type": "code",
   "execution_count": 3,
   "metadata": {},
   "outputs": [
    {
     "data": {
      "text/plain": [
       "array(['Researchers (FTE) - Total ', 'Researchers (HC) - Total ',\n",
       "       'Researchers (FTE) - Female', 'Researchers (FTE) - % Female',\n",
       "       'Researchers (HC) - Female', 'Researchers (HC) - % Female',\n",
       "       'Researchers (FTE) - Natural sciences',\n",
       "       'Researchers (FTE) - Engineering and technology',\n",
       "       'Researchers (FTE) - Medical and health sciences',\n",
       "       'Researchers (FTE) - Agricultural and veterinary sciences',\n",
       "       'Researchers (FTE) - Social sciences',\n",
       "       'Researchers (FTE) - Humanities and the arts',\n",
       "       'Researchers (FTE) - Not specified fields',\n",
       "       'Researchers (FTE) - Natural sciences %',\n",
       "       'Researchers (FTE) - Engineering and technology %',\n",
       "       'Researchers (FTE) - Medical and health sciences %',\n",
       "       'Researchers (FTE) - Agricultural and veterinary sciences %',\n",
       "       'Researchers (FTE) - Social sciences %',\n",
       "       'Researchers (FTE) - Humanities and the arts %',\n",
       "       'Researchers (FTE) - Not specified fields %',\n",
       "       'Researchers (FTE) - Female - Natural sciences',\n",
       "       'Researchers (FTE) - Female - Engineering and technology',\n",
       "       'Researchers (FTE) - Female - Medical and health sciences',\n",
       "       'Researchers (FTE) - Female - Agricultural and veterinary sciences',\n",
       "       'Researchers (FTE) - Female - Social sciences',\n",
       "       'Researchers (FTE) - Female - Humanities and the arts',\n",
       "       'Researchers (FTE) - Female - Not specified fields',\n",
       "       'Female researchers as a percentage of total researchers (FTE) - Natural sciences',\n",
       "       'Female researchers as a percentage of total researchers (FTE) - Engineering and technology',\n",
       "       'Female researchers as a percentage of total researchers (FTE) - Medical and health sciences',\n",
       "       'Female researchers as a percentage of total researchers (FTE) - Agricultural and veterinary sciences',\n",
       "       'Female researchers as a percentage of total researchers (FTE) - Social sciences',\n",
       "       'Female researchers as a percentage of total researchers (FTE) - Humanities and the arts',\n",
       "       'Female researchers as a percentage of total researchers (FTE) - Not specified fields',\n",
       "       'Researchers (HC) - Natural sciences',\n",
       "       'Researchers (HC) - Engineering and technology',\n",
       "       'Researchers (HC) - Medical and health sciences',\n",
       "       'Researchers (HC) - Agricultural and veterinary sciences',\n",
       "       'Researchers (HC) - Social sciences',\n",
       "       'Researchers (HC) - Humanities and the arts',\n",
       "       'Researchers (HC) - Not specified fields',\n",
       "       'Researchers (HC) - Natural sciences %',\n",
       "       'Researchers (HC) - Engineering and technology %',\n",
       "       'Researchers (HC) - Medical and health sciences %',\n",
       "       'Researchers (HC) - Agricultural and veterinary sciences %',\n",
       "       'Researchers (HC) - Social sciences %',\n",
       "       'Researchers (HC) - Humanities and the arts %',\n",
       "       'Researchers (HC) - Not specified fields %',\n",
       "       'Researchers (HC) - Female - Natural sciences',\n",
       "       'Researchers (HC) - Female - Engineering and technology',\n",
       "       'Researchers (HC) - Female - Medical and health sciences',\n",
       "       'Researchers (HC) - Female - Agricultural and veterinary sciences',\n",
       "       'Researchers (HC) - Female - Social sciences',\n",
       "       'Researchers (HC) - Female - Humanities and the arts',\n",
       "       'Researchers (HC) - Female - Not specified fields',\n",
       "       'Female researchers as a percentage of total researchers (HC) - Natural sciences',\n",
       "       'Female researchers as a percentage of total researchers (HC) - Engineering and technology',\n",
       "       'Female researchers as a percentage of total researchers (HC) - Medical and health sciences',\n",
       "       'Female researchers as a percentage of total researchers (HC) - Agricultural and veterinary sciences',\n",
       "       'Female researchers as a percentage of total researchers (HC) - Social sciences',\n",
       "       'Female researchers as a percentage of total researchers (HC) - Humanities and the arts',\n",
       "       'Female researchers as a percentage of total researchers (HC) - Not specified fields',\n",
       "       'Researchers (FTE) - Female - Social sciences and humanities (sub-total)',\n",
       "       'Researchers (FTE) - Natural sciences and engineering (sub-total)',\n",
       "       'Researchers (HC) - Natural sciences and engineering (sub-total)',\n",
       "       'Researchers (HC) - Female - Natural sciences and engineering (sub-total)',\n",
       "       'Researchers (FTE) - Social sciences and humanities (sub-total)',\n",
       "       'Researchers (HC) - Female - Social sciences and humanities (sub-total)',\n",
       "       'Researchers (HC) - Social sciences and humanities (sub-total)',\n",
       "       'Researchers (FTE) - Female - Natural sciences and engineering (sub-total)',\n",
       "       'Female researchers as a percentage of total researchers (HC) - Natural sciences and engineering (sub-total)',\n",
       "       'Female researchers as a percentage of total researchers (HC) - Social sciences and humanities (sub-total)',\n",
       "       'Female researchers as a percentage of total researchers (FTE) - Social sciences and humanities (sub-total)',\n",
       "       'Female researchers as a percentage of total researchers (FTE) - Natural sciences and engineering (sub-total)',\n",
       "       'Researchers (HC) - Social sciences and humanities (sub-total) %',\n",
       "       'Researchers (FTE) - Social sciences and humanities (sub-total) %',\n",
       "       'Researchers (HC) - Natural sciences and engineering (sub-total) %',\n",
       "       'Researchers (FTE) - Natural sciences and engineering (sub-total) %'],\n",
       "      dtype=object)"
      ]
     },
     "execution_count": 3,
     "metadata": {},
     "output_type": "execute_result"
    }
   ],
   "source": [
    "data.Indicator.unique()"
   ]
  },
  {
   "cell_type": "code",
   "execution_count": 4,
   "metadata": {},
   "outputs": [],
   "source": [
    "# filter data to include female researchers categorized by departments \n",
    "data = data[(data.Indicator.isin(['Researchers (HC) - Female - Natural sciences',\n",
    "       'Researchers (HC) - Female - Engineering and technology',\n",
    "       'Researchers (HC) - Female - Medical and health sciences',\n",
    "       'Researchers (HC) - Female - Agricultural and veterinary sciences',\n",
    "       'Researchers (HC) - Female - Social sciences',\n",
    "       'Researchers (HC) - Female - Humanities and the arts',\n",
    "       'Researchers (HC) - Female - Not specified fields'])) & (~data.Value.isna()) ]"
   ]
  },
  {
   "cell_type": "code",
   "execution_count": 5,
   "metadata": {},
   "outputs": [],
   "source": [
    "data_sci = data[data.Indicator == 'Researchers (HC) - Female - Natural sciences']\n",
    "data_eng = data[data.Indicator == 'Researchers (HC) - Female - Engineering and technology']\n",
    "data_med = data[data.Indicator == 'Researchers (HC) - Female - Medical and health sciences']\n",
    "data_agri = data[data.Indicator == 'Researchers (HC) - Female - Agricultural and veterinary sciences']\n",
    "data_social = data[data.Indicator == 'Researchers (HC) - Female - Social sciences']\n",
    "data_hum = data[data.Indicator == 'Researchers (HC) - Female - Humanities and the arts']\n",
    "data_unspecified = data[data.Indicator == 'Researchers (HC) - Female - Not specified fields']\n"
   ]
  },
  {
   "cell_type": "code",
   "execution_count": 6,
   "metadata": {},
   "outputs": [],
   "source": [
    "data_sci = data_sci.groupby(['Time']).sum().reset_index()[['Time', 'Value']]\n",
    "data_eng = data_eng.groupby(['Time']).sum().reset_index()[['Time', 'Value']]\n",
    "data_med = data_med.groupby(['Time']).sum().reset_index()[['Time', 'Value']]\n",
    "data_agri = data_agri.groupby(['Time']).sum().reset_index()[['Time', 'Value']]\n",
    "data_social = data_social.groupby(['Time']).sum().reset_index()[['Time', 'Value']]\n",
    "data_hum = data_hum.groupby(['Time']).sum().reset_index()[['Time', 'Value']]\n",
    "data_unspecified = data_unspecified.groupby(['Time']).sum().reset_index()[['Time', 'Value']]\n"
   ]
  },
  {
   "cell_type": "code",
   "execution_count": 7,
   "metadata": {},
   "outputs": [],
   "source": [
    "# science\n",
    "trace0 = go.Scatter(\n",
    "    x = [2011, 2012, 2013, 2014, 2015, 2016, 2017],\n",
    "    y = data_sci.Value,\n",
    "    name = 'Natural sciences',\n",
    "    mode = 'markers',\n",
    "    marker = dict(\n",
    "        size = 10,\n",
    "        color = 'rgb(230, 159, 0)',\n",
    "        line = dict(\n",
    "            width = 2)\n",
    "    )\n",
    ")\n",
    "\n",
    "trace1 = go.Scatter(\n",
    "    x = [2011, 2012, 2013, 2014, 2015, 2016, 2017],\n",
    "    y = data_eng.Value,\n",
    "    name = 'Engineering and technology',\n",
    "    mode = 'markers',\n",
    "    marker = dict(\n",
    "        size = 10,\n",
    "        color = 'rgb(86, 180, 233)',\n",
    "        line = dict(\n",
    "            width = 2)\n",
    "    )\n",
    ")\n",
    "\n",
    "trace2 = go.Scatter(\n",
    "    x = [2011, 2012, 2013, 2014, 2015, 2016, 2017],\n",
    "    y = data_med.Value,\n",
    "    name = 'Medical and health sciences',\n",
    "    mode = 'markers',\n",
    "    marker = dict(\n",
    "        size = 10,\n",
    "        color = 'rgb(0, 158, 115)',\n",
    "        line = dict(\n",
    "            width = 2)\n",
    "    )\n",
    ")\n",
    "\n",
    "trace3 = go.Scatter(\n",
    "    x = [2011, 2012, 2013, 2014, 2015, 2016, 2017],\n",
    "    y = data_agri.Value,\n",
    "    name = 'Agricultural and veterinary sciences',\n",
    "    mode = 'markers',\n",
    "    marker = dict(\n",
    "        size = 10,\n",
    "        color = 'rgb(240, 228, 66)',\n",
    "        line = dict(\n",
    "            width = 2)\n",
    "    )\n",
    ")\n",
    "\n",
    "trace4 = go.Scatter(\n",
    "    x = [2011, 2012, 2013, 2014, 2015, 2016, 2017],\n",
    "    y = data_social.Value,\n",
    "    name = 'Social sciences',\n",
    "    mode = 'markers',\n",
    "    marker = dict(\n",
    "        size = 10,\n",
    "        color = 'rgb(0, 114, 178)',\n",
    "        line = dict(\n",
    "            width = 2)\n",
    "    )\n",
    ")\n",
    "\n",
    "trace5 = go.Scatter(\n",
    "    x = [2011, 2012, 2013, 2014, 2015, 2016, 2017],\n",
    "    y = data_hum.Value,\n",
    "    name = 'Humanities and the arts',\n",
    "    mode = 'markers',\n",
    "    marker = dict(\n",
    "        size = 10,\n",
    "        color = 'rgb(213, 94, 0)',\n",
    "        line = dict(\n",
    "            width = 2)\n",
    "    )\n",
    ")\n",
    "\n",
    "trace6 = go.Scatter(\n",
    "    x = [2011, 2012, 2013, 2014, 2015, 2016, 2017],\n",
    "    y = data_unspecified.Value,\n",
    "    name = 'Not specified fields',\n",
    "    mode = 'markers',\n",
    "    marker = dict(\n",
    "        size = 10,\n",
    "        color = 'rgb(204, 121, 167)',\n",
    "        line = dict(\n",
    "            width = 2)\n",
    "    )\n",
    ")\n",
    "\n",
    "dummy_trace = go.Scatter(\n",
    "    x=[None], y=[None],\n",
    "    name='<b>Fields</b>',\n",
    "    # set opacity = 0\n",
    "    line={'color': 'rgba(0, 0, 0, 0)'}\n",
    ")\n",
    "\n",
    "data = [dummy_trace, trace0, trace1, trace2, trace3, trace4, trace5, trace6]\n",
    "\n",
    "layout = dict(title = 'Head Count of Female researchers across fields (2011-2017)',\n",
    "              yaxis = dict(title = \"Total Head Count of Female Researchers\", zeroline = False),\n",
    "              xaxis = dict(title = \"Year\", zeroline = False)\n",
    "             )"
   ]
  },
  {
   "cell_type": "code",
   "execution_count": 8,
   "metadata": {},
   "outputs": [
    {
     "name": "stderr",
     "output_type": "stream",
     "text": [
      "/Users/Nina/bin/anaconda3/envs/msds622/lib/python3.7/site-packages/IPython/core/display.py:689: UserWarning:\n",
      "\n",
      "Consider using IPython.display.IFrame instead\n",
      "\n"
     ]
    },
    {
     "data": {
      "text/html": [
       "<iframe id=\"igraph\" scrolling=\"no\" style=\"border:none;\" seamless=\"seamless\" src=\"https://plot.ly/~ninahua/28.embed\" height=\"525px\" width=\"100%\"></iframe>"
      ],
      "text/plain": [
       "<plotly.tools.PlotlyDisplay object>"
      ]
     },
     "execution_count": 8,
     "metadata": {},
     "output_type": "execute_result"
    }
   ],
   "source": [
    "fig = dict(data=data, layout=layout)\n",
    "py.iplot(fig, filename='female_researchers_fields')"
   ]
  },
  {
   "cell_type": "code",
   "execution_count": null,
   "metadata": {},
   "outputs": [],
   "source": []
  }
 ],
 "metadata": {
  "kernelspec": {
   "display_name": "Python 3",
   "language": "python",
   "name": "python3"
  },
  "language_info": {
   "codemirror_mode": {
    "name": "ipython",
    "version": 3
   },
   "file_extension": ".py",
   "mimetype": "text/x-python",
   "name": "python",
   "nbconvert_exporter": "python",
   "pygments_lexer": "ipython3",
   "version": "3.7.1"
  }
 },
 "nbformat": 4,
 "nbformat_minor": 2
}
