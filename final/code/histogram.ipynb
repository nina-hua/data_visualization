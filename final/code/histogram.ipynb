{
 "cells": [
  {
   "cell_type": "markdown",
   "metadata": {},
   "source": [
    "# Histogram"
   ]
  },
  {
   "cell_type": "markdown",
   "metadata": {},
   "source": [
    "Creating a histogram of the total head counts of female researchers in 2015.  "
   ]
  },
  {
   "cell_type": "code",
   "execution_count": 4,
   "metadata": {},
   "outputs": [],
   "source": [
    "import pandas as pd \n",
    "import numpy as np\n",
    "import plotly.plotly as py\n",
    "import plotly.graph_objs as go\n",
    "from collections import Counter"
   ]
  },
  {
   "cell_type": "code",
   "execution_count": 2,
   "metadata": {},
   "outputs": [],
   "source": [
    "# reading number of female researchers \n",
    "data = pd.read_csv('../data/total_researchers.csv')"
   ]
  },
  {
   "cell_type": "code",
   "execution_count": 5,
   "metadata": {},
   "outputs": [
    {
     "data": {
      "text/plain": [
       "Counter({2011: 608,\n",
       "         2012: 524,\n",
       "         2013: 590,\n",
       "         2014: 526,\n",
       "         2015: 638,\n",
       "         2016: 354,\n",
       "         2017: 178})"
      ]
     },
     "execution_count": 5,
     "metadata": {},
     "output_type": "execute_result"
    }
   ],
   "source": [
    "# find the year with the greatest amount of information \n",
    "Counter(data['Time'])  # use 2015 data "
   ]
  },
  {
   "cell_type": "code",
   "execution_count": 12,
   "metadata": {},
   "outputs": [],
   "source": [
    "# filter data \n",
    "# Time: 2015\n",
    "# I\n",
    "data_2015 = data[(data['Time'] == 2015) & (data['Indicator'] == 'Researchers (HC) - Total ') & ~(data['Value'].isna())]"
   ]
  },
  {
   "cell_type": "code",
   "execution_count": 17,
   "metadata": {},
   "outputs": [
    {
     "data": {
      "text/plain": [
       "34.0"
      ]
     },
     "execution_count": 17,
     "metadata": {},
     "output_type": "execute_result"
    }
   ],
   "source": [
    "min(data_2015.Value)"
   ]
  },
  {
   "cell_type": "code",
   "execution_count": 13,
   "metadata": {},
   "outputs": [
    {
     "data": {
      "text/html": [
       "<div>\n",
       "<style scoped>\n",
       "    .dataframe tbody tr th:only-of-type {\n",
       "        vertical-align: middle;\n",
       "    }\n",
       "\n",
       "    .dataframe tbody tr th {\n",
       "        vertical-align: top;\n",
       "    }\n",
       "\n",
       "    .dataframe thead th {\n",
       "        text-align: right;\n",
       "    }\n",
       "</style>\n",
       "<table border=\"1\" class=\"dataframe\">\n",
       "  <thead>\n",
       "    <tr style=\"text-align: right;\">\n",
       "      <th></th>\n",
       "      <th>INDICATOR</th>\n",
       "      <th>Indicator</th>\n",
       "      <th>LOCATION</th>\n",
       "      <th>Country</th>\n",
       "      <th>TIME</th>\n",
       "      <th>Time</th>\n",
       "      <th>Value</th>\n",
       "      <th>Flag Codes</th>\n",
       "      <th>Flags</th>\n",
       "    </tr>\n",
       "  </thead>\n",
       "  <tbody>\n",
       "    <tr>\n",
       "      <th>412</th>\n",
       "      <td>21001</td>\n",
       "      <td>Researchers (HC) - Total</td>\n",
       "      <td>AUT</td>\n",
       "      <td>Austria</td>\n",
       "      <td>2015</td>\n",
       "      <td>2015</td>\n",
       "      <td>78051.00</td>\n",
       "      <td>NaN</td>\n",
       "      <td>NaN</td>\n",
       "    </tr>\n",
       "    <tr>\n",
       "      <th>415</th>\n",
       "      <td>21001</td>\n",
       "      <td>Researchers (HC) - Total</td>\n",
       "      <td>BEL</td>\n",
       "      <td>Belgium</td>\n",
       "      <td>2015</td>\n",
       "      <td>2015</td>\n",
       "      <td>73709.00</td>\n",
       "      <td>NaN</td>\n",
       "      <td>NaN</td>\n",
       "    </tr>\n",
       "    <tr>\n",
       "      <th>420</th>\n",
       "      <td>21001</td>\n",
       "      <td>Researchers (HC) - Total</td>\n",
       "      <td>CZE</td>\n",
       "      <td>Czechia</td>\n",
       "      <td>2015</td>\n",
       "      <td>2015</td>\n",
       "      <td>56604.54</td>\n",
       "      <td>NaN</td>\n",
       "      <td>NaN</td>\n",
       "    </tr>\n",
       "    <tr>\n",
       "      <th>425</th>\n",
       "      <td>21001</td>\n",
       "      <td>Researchers (HC) - Total</td>\n",
       "      <td>DNK</td>\n",
       "      <td>Denmark</td>\n",
       "      <td>2015</td>\n",
       "      <td>2015</td>\n",
       "      <td>59985.00</td>\n",
       "      <td>NaN</td>\n",
       "      <td>NaN</td>\n",
       "    </tr>\n",
       "    <tr>\n",
       "      <th>430</th>\n",
       "      <td>21001</td>\n",
       "      <td>Researchers (HC) - Total</td>\n",
       "      <td>FIN</td>\n",
       "      <td>Finland</td>\n",
       "      <td>2015</td>\n",
       "      <td>2015</td>\n",
       "      <td>55728.00</td>\n",
       "      <td>NaN</td>\n",
       "      <td>NaN</td>\n",
       "    </tr>\n",
       "  </tbody>\n",
       "</table>\n",
       "</div>"
      ],
      "text/plain": [
       "    INDICATOR                  Indicator LOCATION  Country  TIME  Time  \\\n",
       "412     21001  Researchers (HC) - Total       AUT  Austria  2015  2015   \n",
       "415     21001  Researchers (HC) - Total       BEL  Belgium  2015  2015   \n",
       "420     21001  Researchers (HC) - Total       CZE  Czechia  2015  2015   \n",
       "425     21001  Researchers (HC) - Total       DNK  Denmark  2015  2015   \n",
       "430     21001  Researchers (HC) - Total       FIN  Finland  2015  2015   \n",
       "\n",
       "        Value Flag Codes Flags  \n",
       "412  78051.00        NaN   NaN  \n",
       "415  73709.00        NaN   NaN  \n",
       "420  56604.54        NaN   NaN  \n",
       "425  59985.00        NaN   NaN  \n",
       "430  55728.00        NaN   NaN  "
      ]
     },
     "execution_count": 13,
     "metadata": {},
     "output_type": "execute_result"
    }
   ],
   "source": [
    "data_2015.head()"
   ]
  },
  {
   "cell_type": "code",
   "execution_count": 25,
   "metadata": {},
   "outputs": [
    {
     "data": {
      "text/html": [
       "<iframe id=\"igraph\" scrolling=\"no\" style=\"border:none;\" seamless=\"seamless\" src=\"https://plot.ly/~ninahua/16.embed\" height=\"525px\" width=\"100%\"></iframe>"
      ],
      "text/plain": [
       "<plotly.tools.PlotlyDisplay object>"
      ]
     },
     "execution_count": 25,
     "metadata": {},
     "output_type": "execute_result"
    }
   ],
   "source": [
    "data_hist = [go.Histogram(x=data_2015['Value'],marker=dict(color='purple'), opacity=0.75)]\n",
    "\n",
    "layout = go.Layout(\n",
    "    title = go.layout.Title(\n",
    "        text = 'Total Female Researchers (Head count) in 2015'\n",
    "    ),\n",
    "    xaxis=dict(\n",
    "        title='Head Count Value'\n",
    "    ),\n",
    "    yaxis=dict(\n",
    "        title='Count'\n",
    "    ),\n",
    "    annotations = [go.layout.Annotation(\n",
    "        x = 1,\n",
    "        y = 1,\n",
    "        xref = 'paper',\n",
    "        yref = 'paper',\n",
    "        text = 'Source: <a href=\"http://data.uis.unesco.org/\">\\\n",
    "            UNESCO Institute for Statistics</a>',\n",
    "        showarrow = False\n",
    "    )]\n",
    ")\n",
    "fig = go.Figure(data=data_hist, layout=layout)\n",
    "\n",
    "py.iplot(fig, filename='Histogram: 2015 Female Researchers (HC)')"
   ]
  },
  {
   "cell_type": "code",
   "execution_count": null,
   "metadata": {},
   "outputs": [],
   "source": []
  }
 ],
 "metadata": {
  "kernelspec": {
   "display_name": "Python 3",
   "language": "python",
   "name": "python3"
  },
  "language_info": {
   "codemirror_mode": {
    "name": "ipython",
    "version": 3
   },
   "file_extension": ".py",
   "mimetype": "text/x-python",
   "name": "python",
   "nbconvert_exporter": "python",
   "pygments_lexer": "ipython3",
   "version": "3.7.1"
  }
 },
 "nbformat": 4,
 "nbformat_minor": 2
}
