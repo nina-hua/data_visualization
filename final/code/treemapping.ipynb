{
 "cells": [
  {
   "cell_type": "markdown",
   "metadata": {},
   "source": [
    "# Treemap"
   ]
  },
  {
   "cell_type": "markdown",
   "metadata": {},
   "source": [
    "Summed female researcher headcounts across different age groups in 2015"
   ]
  },
  {
   "cell_type": "code",
   "execution_count": 1,
   "metadata": {},
   "outputs": [],
   "source": [
    "import pandas as pd \n",
    "import numpy as np\n",
    "import plotly.plotly as py\n",
    "import plotly.graph_objs as go\n",
    "import squarify\n"
   ]
  },
  {
   "cell_type": "code",
   "execution_count": 2,
   "metadata": {},
   "outputs": [],
   "source": [
    "data = pd.read_csv('../data/age_researchers.csv')"
   ]
  },
  {
   "cell_type": "code",
   "execution_count": 4,
   "metadata": {},
   "outputs": [
    {
     "data": {
      "text/plain": [
       "array(['Researchers (HC) - Total ', 'Researchers (HC) - Female',\n",
       "       'Researchers (HC) - % Female',\n",
       "       'Researchers (HC) - Under 25 years ',\n",
       "       'Researchers (HC) - Not specified age groups',\n",
       "       'Researchers (HC) - Female - 65 years and more',\n",
       "       'Researchers (HC) - Female - 55-64 years',\n",
       "       'Researchers (HC) - 65 years and more',\n",
       "       'Researchers (HC) - Female - 25-34 years ',\n",
       "       'Researchers (HC) - 55-64 years',\n",
       "       'Researchers (HC) - 25-34 years ',\n",
       "       'Researchers (HC) - Female - Under 25 years ',\n",
       "       'Researchers (HC) - 45-54 years',\n",
       "       'Researchers (HC) - Female - 35-44 years',\n",
       "       'Researchers (HC) - Female - Not specified age groups',\n",
       "       'Researchers (HC) - 35-44 years',\n",
       "       'Researchers (HC) - Female - 45-54 years',\n",
       "       'Researchers (HC) - Under 25 years %',\n",
       "       'Researchers (HC) - 25-34 years %',\n",
       "       'Researchers (HC) - 35-44 years %',\n",
       "       'Researchers (HC) - 45-54 years %',\n",
       "       'Researchers (HC) - 55-64 years %',\n",
       "       'Researchers (HC) - 65 years and more %',\n",
       "       'Researchers (HC) - Not specified age groups %',\n",
       "       'Female researchers as a percentage of total researchers (HC) - Under 25 years',\n",
       "       'Female researchers as a percentage of total researchers (HC) - 25-34 years',\n",
       "       'Female researchers as a percentage of total researchers (HC) - 35-44 years',\n",
       "       'Female researchers as a percentage of total researchers (HC) - 45-54 years',\n",
       "       'Female researchers as a percentage of total researchers (HC) - 55-64 years',\n",
       "       'Female researchers as a percentage of total researchers (HC) - 65 years and more'],\n",
       "      dtype=object)"
      ]
     },
     "execution_count": 4,
     "metadata": {},
     "output_type": "execute_result"
    }
   ],
   "source": [
    "data.Indicator.unique()"
   ]
  },
  {
   "cell_type": "code",
   "execution_count": 5,
   "metadata": {},
   "outputs": [],
   "source": [
    "data = data[(data.Indicator.isin(['Researchers (HC) - Female - 65 years and more',\n",
    "       'Researchers (HC) - Female - 55-64 years','Researchers (HC) - Female - 25-34 years ',\n",
    "                                  'Researchers (HC) - Female - Under 25 years ','Researchers (HC) - Female - 35-44 years','Researchers (HC) - Female - 45-54 years',\n",
    "                                 'Researchers (HC) - Female - Not specified age groups'])) & (data.Time == 2015) & ~(data.Value.isna())]\n"
   ]
  },
  {
   "cell_type": "code",
   "execution_count": 6,
   "metadata": {},
   "outputs": [],
   "source": [
    "# sum the head counts per age group in 2015 for all countries \n",
    "data_agg = data.groupby('Indicator').sum().reset_index()[['Indicator', 'Value']]"
   ]
  },
  {
   "cell_type": "code",
   "execution_count": 7,
   "metadata": {},
   "outputs": [
    {
     "data": {
      "text/html": [
       "<div>\n",
       "<style scoped>\n",
       "    .dataframe tbody tr th:only-of-type {\n",
       "        vertical-align: middle;\n",
       "    }\n",
       "\n",
       "    .dataframe tbody tr th {\n",
       "        vertical-align: top;\n",
       "    }\n",
       "\n",
       "    .dataframe thead th {\n",
       "        text-align: right;\n",
       "    }\n",
       "</style>\n",
       "<table border=\"1\" class=\"dataframe\">\n",
       "  <thead>\n",
       "    <tr style=\"text-align: right;\">\n",
       "      <th></th>\n",
       "      <th>Indicator</th>\n",
       "      <th>Value</th>\n",
       "    </tr>\n",
       "  </thead>\n",
       "  <tbody>\n",
       "    <tr>\n",
       "      <th>0</th>\n",
       "      <td>Researchers (HC) - Female - 25-34 years</td>\n",
       "      <td>54552.0</td>\n",
       "    </tr>\n",
       "    <tr>\n",
       "      <th>1</th>\n",
       "      <td>Researchers (HC) - Female - 35-44 years</td>\n",
       "      <td>58322.0</td>\n",
       "    </tr>\n",
       "    <tr>\n",
       "      <th>2</th>\n",
       "      <td>Researchers (HC) - Female - 45-54 years</td>\n",
       "      <td>43567.0</td>\n",
       "    </tr>\n",
       "    <tr>\n",
       "      <th>3</th>\n",
       "      <td>Researchers (HC) - Female - 55-64 years</td>\n",
       "      <td>30015.0</td>\n",
       "    </tr>\n",
       "    <tr>\n",
       "      <th>4</th>\n",
       "      <td>Researchers (HC) - Female - 65 years and more</td>\n",
       "      <td>10442.0</td>\n",
       "    </tr>\n",
       "    <tr>\n",
       "      <th>5</th>\n",
       "      <td>Researchers (HC) - Female - Not specified age ...</td>\n",
       "      <td>1492.0</td>\n",
       "    </tr>\n",
       "    <tr>\n",
       "      <th>6</th>\n",
       "      <td>Researchers (HC) - Female - Under 25 years</td>\n",
       "      <td>6507.0</td>\n",
       "    </tr>\n",
       "  </tbody>\n",
       "</table>\n",
       "</div>"
      ],
      "text/plain": [
       "                                           Indicator    Value\n",
       "0           Researchers (HC) - Female - 25-34 years   54552.0\n",
       "1            Researchers (HC) - Female - 35-44 years  58322.0\n",
       "2            Researchers (HC) - Female - 45-54 years  43567.0\n",
       "3            Researchers (HC) - Female - 55-64 years  30015.0\n",
       "4      Researchers (HC) - Female - 65 years and more  10442.0\n",
       "5  Researchers (HC) - Female - Not specified age ...   1492.0\n",
       "6        Researchers (HC) - Female - Under 25 years    6507.0"
      ]
     },
     "execution_count": 7,
     "metadata": {},
     "output_type": "execute_result"
    }
   ],
   "source": [
    "data_agg"
   ]
  },
  {
   "cell_type": "code",
   "execution_count": 8,
   "metadata": {},
   "outputs": [],
   "source": [
    "data_agg.to_csv('../data/treemap_data.csv', index=False)"
   ]
  },
  {
   "cell_type": "code",
   "execution_count": null,
   "metadata": {},
   "outputs": [],
   "source": [
    "# x = 0.\n",
    "# y = 0.\n",
    "# width = 100.\n",
    "# height = 100.\n",
    "\n",
    "# values = data_agg.Value\n",
    "\n",
    "# normed = squarify.normalize_sizes(values, width, height)\n",
    "# rects = squarify.squarify(normed, x, y, width, height)\n",
    "\n",
    "# # Choose colors from http://colorbrewer2.org/ under \"Export\"\n",
    "# color_brewer = ['rgb(166,206,227)','rgb(31,120,180)','rgb(178,223,138)',\n",
    "#                 'rgb(51,160,44)','rgb(251,154,153)','rgb(227,26,28)']\n",
    "# shapes = []\n",
    "# annotations = []\n",
    "# counter = 0\n",
    "\n",
    "# for r in rects:\n",
    "#     shapes.append( \n",
    "#         dict(\n",
    "#             type = 'rect', \n",
    "#             x0 = r['x'], \n",
    "#             y0 = r['y'], \n",
    "#             x1 = r['x']+r['dx'], \n",
    "#             y1 = r['y']+r['dy'],\n",
    "#             line = dict( width = 2 ),\n",
    "#             fillcolor = color_brewer[counter]\n",
    "#         ) \n",
    "#     )\n",
    "#     annotations.append(\n",
    "#         dict(\n",
    "#             x = r['x']+(r['dx']/2),\n",
    "#             y = r['y']+(r['dy']/2),\n",
    "#             text = values[counter],\n",
    "#             showarrow = False\n",
    "#         )\n",
    "#     )\n",
    "#     counter = counter + 1\n",
    "#     if counter >= len(color_brewer):\n",
    "#         counter = 0\n",
    "\n",
    "# # For hover text\n",
    "# trace0 = go.Scatter(\n",
    "#     x = [ r['x']+(r['dx']/2) for r in rects ], \n",
    "#     y = [ r['y']+(r['dy']/2) for r in rects ],\n",
    "#     text = [ str(v) for v in values ], \n",
    "#     mode = 'text',\n",
    "# )\n",
    "        \n",
    "# layout = dict(\n",
    "#     height=700, \n",
    "#     width=700,\n",
    "#     xaxis=dict(showgrid=False,zeroline=False),\n",
    "#     yaxis=dict(showgrid=False,zeroline=False),\n",
    "#     shapes=shapes,\n",
    "#     annotations=annotations,\n",
    "#     hovermode='closest'\n",
    "# )\n",
    "\n",
    "# # With hovertext\n",
    "# figure = dict(data=[trace0], layout=layout)\n",
    "\n",
    "# # Without hovertext\n",
    "# # figure = dict(data=[Scatter()], layout=layout)\n",
    "\n",
    "# py.iplot(figure, filename='squarify-treemap')"
   ]
  },
  {
   "cell_type": "code",
   "execution_count": null,
   "metadata": {},
   "outputs": [],
   "source": []
  },
  {
   "cell_type": "code",
   "execution_count": null,
   "metadata": {},
   "outputs": [],
   "source": []
  }
 ],
 "metadata": {
  "kernelspec": {
   "display_name": "Python 3",
   "language": "python",
   "name": "python3"
  },
  "language_info": {
   "codemirror_mode": {
    "name": "ipython",
    "version": 3
   },
   "file_extension": ".py",
   "mimetype": "text/x-python",
   "name": "python",
   "nbconvert_exporter": "python",
   "pygments_lexer": "ipython3",
   "version": "3.7.1"
  }
 },
 "nbformat": 4,
 "nbformat_minor": 2
}
